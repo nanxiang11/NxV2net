{
 "cells": [
  {
   "cell_type": "code",
   "execution_count": 1,
   "id": "initial_id",
   "metadata": {
    "ExecuteTime": {
     "start_time": "2024-08-17T09:54:34.436593Z"
    },
    "jupyter": {
     "is_executing": true
    }
   },
   "outputs": [],
   "source": [
    "from Utils.Utils_nx import CustomDataset, get_transforms, DrawImage\n",
    "import torch"
   ]
  },
  {
   "cell_type": "code",
   "execution_count": 2,
   "id": "49bc52d207ff48",
   "metadata": {},
   "outputs": [],
   "source": [
    "test_dir = \"TestData\"\n",
    "train_dir = \"TrainData\""
   ]
  },
  {
   "cell_type": "code",
   "id": "3d81ff5b2b3490d",
   "metadata": {
    "scrolled": true
   },
   "source": [
    "testset = CustomDataset(test_dir, transform=get_transforms())\n",
    "trainset = CustomDataset(train_dir, transform=get_transforms())\n",
    "print(trainset.__len__(), testset.__len__())\n",
    "drawImage = DrawImage()\n",
    "drawImage.test_loaderImage(trainset)"
   ],
   "outputs": [],
   "execution_count": null
  },
  {
   "cell_type": "code",
   "execution_count": 4,
   "id": "c583debb59e89d5f",
   "metadata": {},
   "outputs": [],
   "source": [
    "from torch.utils.data import TensorDataset"
   ]
  },
  {
   "cell_type": "code",
   "execution_count": 5,
   "id": "56b1e88269820778",
   "metadata": {},
   "outputs": [],
   "source": [
    "train_loader = torch.utils.data.DataLoader(dataset=trainset, batch_size=2, shuffle=True)"
   ]
  },
  {
   "cell_type": "code",
   "execution_count": 6,
   "id": "417da0a30cab2986",
   "metadata": {},
   "outputs": [],
   "source": [
    "val_loader = torch.utils.data.DataLoader(dataset=testset, batch_size=2)"
   ]
  },
  {
   "cell_type": "code",
   "execution_count": 7,
   "id": "3379c5f83eca67d0",
   "metadata": {},
   "outputs": [],
   "source": [
    "from Utils import Nxtrain"
   ]
  },
  {
   "cell_type": "code",
   "id": "7c19f9f7c6168943",
   "metadata": {},
   "source": [
    "from MX import V2net"
   ],
   "outputs": [],
   "execution_count": null
  },
  {
   "cell_type": "code",
   "execution_count": 9,
   "id": "e33e34508ce8d644",
   "metadata": {
    "ExecuteTime": {
     "end_time": "2024-06-21T07:19:16.722036Z",
     "start_time": "2024-06-21T07:19:16.418606Z"
    }
   },
   "outputs": [],
   "source": [
    "net = V2net.V2net(3, 1)  # 2"
   ]
  },
  {
   "cell_type": "code",
   "id": "ece9daa8-1820-4428-9b4c-b130e2987d77",
   "metadata": {},
   "source": [
    "Nxtrain.train(net, train_loader, val_loader, 0.0002, 320, \"V2net(0.00002, 320)\")"
   ],
   "outputs": [],
   "execution_count": null
  },
  {
   "cell_type": "code",
   "execution_count": null,
   "id": "d4b15cce-9279-41d4-adb5-19f9231dd38e",
   "metadata": {},
   "outputs": [],
   "source": [
    "torch.save(net.state_dict(), \"../parameter/V2net_SUES-CRACK(0.00002, 320).pth\")"
   ]
  }
 ],
 "metadata": {
  "kernelspec": {
   "display_name": "Python 3 (ipykernel)",
   "language": "python",
   "name": "python3"
  },
  "language_info": {
   "codemirror_mode": {
    "name": "ipython",
    "version": 3
   },
   "file_extension": ".py",
   "mimetype": "text/x-python",
   "name": "python",
   "nbconvert_exporter": "python",
   "pygments_lexer": "ipython3",
   "version": "3.11.5"
  }
 },
 "nbformat": 4,
 "nbformat_minor": 5
}
